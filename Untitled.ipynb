{
 "cells": [
  {
   "cell_type": "code",
   "execution_count": 13,
   "id": "b09d5bcb",
   "metadata": {},
   "outputs": [],
   "source": [
    "import pandas as pd\n",
    "import numpy as np\n",
    "import matplotlib.pyplot as plt\n",
    "import seaborn as sns"
   ]
  },
  {
   "cell_type": "markdown",
   "id": "78767e10",
   "metadata": {},
   "source": [
    "# Data Understanding"
   ]
  },
  {
   "cell_type": "code",
   "execution_count": 14,
   "id": "491e6f85",
   "metadata": {},
   "outputs": [],
   "source": [
    "movies = pd.read_csv(\"movies.csv\")"
   ]
  },
  {
   "cell_type": "code",
   "execution_count": 15,
   "id": "43a57bc0",
   "metadata": {},
   "outputs": [
    {
     "data": {
      "text/html": [
       "<div>\n",
       "<style scoped>\n",
       "    .dataframe tbody tr th:only-of-type {\n",
       "        vertical-align: middle;\n",
       "    }\n",
       "\n",
       "    .dataframe tbody tr th {\n",
       "        vertical-align: top;\n",
       "    }\n",
       "\n",
       "    .dataframe thead th {\n",
       "        text-align: right;\n",
       "    }\n",
       "</style>\n",
       "<table border=\"1\" class=\"dataframe\">\n",
       "  <thead>\n",
       "    <tr style=\"text-align: right;\">\n",
       "      <th></th>\n",
       "      <th>MOVIES</th>\n",
       "      <th>YEAR</th>\n",
       "      <th>GENRE</th>\n",
       "      <th>RATING</th>\n",
       "      <th>ONE-LINE</th>\n",
       "      <th>STARS</th>\n",
       "      <th>VOTES</th>\n",
       "      <th>RunTime</th>\n",
       "      <th>Gross</th>\n",
       "    </tr>\n",
       "  </thead>\n",
       "  <tbody>\n",
       "    <tr>\n",
       "      <th>0</th>\n",
       "      <td>Blood Red Sky</td>\n",
       "      <td>(2021)</td>\n",
       "      <td>\\nAction, Horror, Thriller</td>\n",
       "      <td>6.1</td>\n",
       "      <td>\\nA woman with a mysterious illness is forced ...</td>\n",
       "      <td>\\n    Director:\\nPeter Thorwarth\\n| \\n    Star...</td>\n",
       "      <td>21,062</td>\n",
       "      <td>121.0</td>\n",
       "      <td>NaN</td>\n",
       "    </tr>\n",
       "    <tr>\n",
       "      <th>1</th>\n",
       "      <td>Masters of the Universe: Revelation</td>\n",
       "      <td>(2021– )</td>\n",
       "      <td>\\nAnimation, Action, Adventure</td>\n",
       "      <td>5.0</td>\n",
       "      <td>\\nThe war for Eternia begins again in what may...</td>\n",
       "      <td>\\n            \\n    Stars:\\nChris Wood, \\nSara...</td>\n",
       "      <td>17,870</td>\n",
       "      <td>25.0</td>\n",
       "      <td>NaN</td>\n",
       "    </tr>\n",
       "    <tr>\n",
       "      <th>2</th>\n",
       "      <td>The Walking Dead</td>\n",
       "      <td>(2010–2022)</td>\n",
       "      <td>\\nDrama, Horror, Thriller</td>\n",
       "      <td>8.2</td>\n",
       "      <td>\\nSheriff Deputy Rick Grimes wakes up from a c...</td>\n",
       "      <td>\\n            \\n    Stars:\\nAndrew Lincoln, \\n...</td>\n",
       "      <td>885,805</td>\n",
       "      <td>44.0</td>\n",
       "      <td>NaN</td>\n",
       "    </tr>\n",
       "    <tr>\n",
       "      <th>3</th>\n",
       "      <td>Rick and Morty</td>\n",
       "      <td>(2013– )</td>\n",
       "      <td>\\nAnimation, Adventure, Comedy</td>\n",
       "      <td>9.2</td>\n",
       "      <td>\\nAn animated series that follows the exploits...</td>\n",
       "      <td>\\n            \\n    Stars:\\nJustin Roiland, \\n...</td>\n",
       "      <td>414,849</td>\n",
       "      <td>23.0</td>\n",
       "      <td>NaN</td>\n",
       "    </tr>\n",
       "    <tr>\n",
       "      <th>4</th>\n",
       "      <td>Army of Thieves</td>\n",
       "      <td>(2021)</td>\n",
       "      <td>\\nAction, Crime, Horror</td>\n",
       "      <td>NaN</td>\n",
       "      <td>\\nA prequel, set before the events of Army of ...</td>\n",
       "      <td>\\n    Director:\\nMatthias Schweighöfer\\n| \\n  ...</td>\n",
       "      <td>NaN</td>\n",
       "      <td>NaN</td>\n",
       "      <td>NaN</td>\n",
       "    </tr>\n",
       "  </tbody>\n",
       "</table>\n",
       "</div>"
      ],
      "text/plain": [
       "                                MOVIES         YEAR  \\\n",
       "0                        Blood Red Sky       (2021)   \n",
       "1  Masters of the Universe: Revelation     (2021– )   \n",
       "2                     The Walking Dead  (2010–2022)   \n",
       "3                       Rick and Morty     (2013– )   \n",
       "4                      Army of Thieves       (2021)   \n",
       "\n",
       "                                        GENRE  RATING  \\\n",
       "0      \\nAction, Horror, Thriller                 6.1   \n",
       "1  \\nAnimation, Action, Adventure                 5.0   \n",
       "2       \\nDrama, Horror, Thriller                 8.2   \n",
       "3  \\nAnimation, Adventure, Comedy                 9.2   \n",
       "4         \\nAction, Crime, Horror                 NaN   \n",
       "\n",
       "                                            ONE-LINE  \\\n",
       "0  \\nA woman with a mysterious illness is forced ...   \n",
       "1  \\nThe war for Eternia begins again in what may...   \n",
       "2  \\nSheriff Deputy Rick Grimes wakes up from a c...   \n",
       "3  \\nAn animated series that follows the exploits...   \n",
       "4  \\nA prequel, set before the events of Army of ...   \n",
       "\n",
       "                                               STARS    VOTES  RunTime Gross  \n",
       "0  \\n    Director:\\nPeter Thorwarth\\n| \\n    Star...   21,062    121.0   NaN  \n",
       "1  \\n            \\n    Stars:\\nChris Wood, \\nSara...   17,870     25.0   NaN  \n",
       "2  \\n            \\n    Stars:\\nAndrew Lincoln, \\n...  885,805     44.0   NaN  \n",
       "3  \\n            \\n    Stars:\\nJustin Roiland, \\n...  414,849     23.0   NaN  \n",
       "4  \\n    Director:\\nMatthias Schweighöfer\\n| \\n  ...      NaN      NaN   NaN  "
      ]
     },
     "execution_count": 15,
     "metadata": {},
     "output_type": "execute_result"
    }
   ],
   "source": [
    "movies.head()"
   ]
  },
  {
   "cell_type": "code",
   "execution_count": 16,
   "id": "5c6cd078",
   "metadata": {},
   "outputs": [
    {
     "name": "stdout",
     "output_type": "stream",
     "text": [
      "<class 'pandas.core.frame.DataFrame'>\n",
      "RangeIndex: 9999 entries, 0 to 9998\n",
      "Data columns (total 9 columns):\n",
      " #   Column    Non-Null Count  Dtype  \n",
      "---  ------    --------------  -----  \n",
      " 0   MOVIES    9999 non-null   object \n",
      " 1   YEAR      9355 non-null   object \n",
      " 2   GENRE     9919 non-null   object \n",
      " 3   RATING    8179 non-null   float64\n",
      " 4   ONE-LINE  9999 non-null   object \n",
      " 5   STARS     9999 non-null   object \n",
      " 6   VOTES     8179 non-null   object \n",
      " 7   RunTime   7041 non-null   float64\n",
      " 8   Gross     460 non-null    object \n",
      "dtypes: float64(2), object(7)\n",
      "memory usage: 703.2+ KB\n"
     ]
    }
   ],
   "source": [
    "movies.info()"
   ]
  },
  {
   "cell_type": "code",
   "execution_count": 17,
   "id": "c968792d",
   "metadata": {
    "scrolled": true
   },
   "outputs": [
    {
     "data": {
      "text/html": [
       "<div>\n",
       "<style scoped>\n",
       "    .dataframe tbody tr th:only-of-type {\n",
       "        vertical-align: middle;\n",
       "    }\n",
       "\n",
       "    .dataframe tbody tr th {\n",
       "        vertical-align: top;\n",
       "    }\n",
       "\n",
       "    .dataframe thead th {\n",
       "        text-align: right;\n",
       "    }\n",
       "</style>\n",
       "<table border=\"1\" class=\"dataframe\">\n",
       "  <thead>\n",
       "    <tr style=\"text-align: right;\">\n",
       "      <th></th>\n",
       "      <th>MOVIES</th>\n",
       "      <th>YEAR</th>\n",
       "      <th>GENRE</th>\n",
       "      <th>RATING</th>\n",
       "      <th>ONE-LINE</th>\n",
       "      <th>STARS</th>\n",
       "      <th>VOTES</th>\n",
       "      <th>RunTime</th>\n",
       "      <th>Gross</th>\n",
       "    </tr>\n",
       "  </thead>\n",
       "  <tbody>\n",
       "    <tr>\n",
       "      <th>count</th>\n",
       "      <td>9999</td>\n",
       "      <td>9355</td>\n",
       "      <td>9919</td>\n",
       "      <td>8179.000000</td>\n",
       "      <td>9999</td>\n",
       "      <td>9999</td>\n",
       "      <td>8179</td>\n",
       "      <td>7041.000000</td>\n",
       "      <td>460</td>\n",
       "    </tr>\n",
       "    <tr>\n",
       "      <th>unique</th>\n",
       "      <td>6817</td>\n",
       "      <td>438</td>\n",
       "      <td>510</td>\n",
       "      <td>NaN</td>\n",
       "      <td>8688</td>\n",
       "      <td>7877</td>\n",
       "      <td>4129</td>\n",
       "      <td>NaN</td>\n",
       "      <td>332</td>\n",
       "    </tr>\n",
       "    <tr>\n",
       "      <th>top</th>\n",
       "      <td>Bleach: Burîchi</td>\n",
       "      <td>(2020– )</td>\n",
       "      <td>\\nComedy</td>\n",
       "      <td>NaN</td>\n",
       "      <td>\\nAdd a Plot\\n</td>\n",
       "      <td>\\n</td>\n",
       "      <td>7</td>\n",
       "      <td>NaN</td>\n",
       "      <td>$0.01M</td>\n",
       "    </tr>\n",
       "    <tr>\n",
       "      <th>freq</th>\n",
       "      <td>65</td>\n",
       "      <td>892</td>\n",
       "      <td>852</td>\n",
       "      <td>NaN</td>\n",
       "      <td>1265</td>\n",
       "      <td>456</td>\n",
       "      <td>35</td>\n",
       "      <td>NaN</td>\n",
       "      <td>22</td>\n",
       "    </tr>\n",
       "    <tr>\n",
       "      <th>mean</th>\n",
       "      <td>NaN</td>\n",
       "      <td>NaN</td>\n",
       "      <td>NaN</td>\n",
       "      <td>6.921176</td>\n",
       "      <td>NaN</td>\n",
       "      <td>NaN</td>\n",
       "      <td>NaN</td>\n",
       "      <td>68.688539</td>\n",
       "      <td>NaN</td>\n",
       "    </tr>\n",
       "    <tr>\n",
       "      <th>std</th>\n",
       "      <td>NaN</td>\n",
       "      <td>NaN</td>\n",
       "      <td>NaN</td>\n",
       "      <td>1.220232</td>\n",
       "      <td>NaN</td>\n",
       "      <td>NaN</td>\n",
       "      <td>NaN</td>\n",
       "      <td>47.258056</td>\n",
       "      <td>NaN</td>\n",
       "    </tr>\n",
       "    <tr>\n",
       "      <th>min</th>\n",
       "      <td>NaN</td>\n",
       "      <td>NaN</td>\n",
       "      <td>NaN</td>\n",
       "      <td>1.100000</td>\n",
       "      <td>NaN</td>\n",
       "      <td>NaN</td>\n",
       "      <td>NaN</td>\n",
       "      <td>1.000000</td>\n",
       "      <td>NaN</td>\n",
       "    </tr>\n",
       "    <tr>\n",
       "      <th>25%</th>\n",
       "      <td>NaN</td>\n",
       "      <td>NaN</td>\n",
       "      <td>NaN</td>\n",
       "      <td>6.200000</td>\n",
       "      <td>NaN</td>\n",
       "      <td>NaN</td>\n",
       "      <td>NaN</td>\n",
       "      <td>36.000000</td>\n",
       "      <td>NaN</td>\n",
       "    </tr>\n",
       "    <tr>\n",
       "      <th>50%</th>\n",
       "      <td>NaN</td>\n",
       "      <td>NaN</td>\n",
       "      <td>NaN</td>\n",
       "      <td>7.100000</td>\n",
       "      <td>NaN</td>\n",
       "      <td>NaN</td>\n",
       "      <td>NaN</td>\n",
       "      <td>60.000000</td>\n",
       "      <td>NaN</td>\n",
       "    </tr>\n",
       "    <tr>\n",
       "      <th>75%</th>\n",
       "      <td>NaN</td>\n",
       "      <td>NaN</td>\n",
       "      <td>NaN</td>\n",
       "      <td>7.800000</td>\n",
       "      <td>NaN</td>\n",
       "      <td>NaN</td>\n",
       "      <td>NaN</td>\n",
       "      <td>95.000000</td>\n",
       "      <td>NaN</td>\n",
       "    </tr>\n",
       "    <tr>\n",
       "      <th>max</th>\n",
       "      <td>NaN</td>\n",
       "      <td>NaN</td>\n",
       "      <td>NaN</td>\n",
       "      <td>9.900000</td>\n",
       "      <td>NaN</td>\n",
       "      <td>NaN</td>\n",
       "      <td>NaN</td>\n",
       "      <td>853.000000</td>\n",
       "      <td>NaN</td>\n",
       "    </tr>\n",
       "  </tbody>\n",
       "</table>\n",
       "</div>"
      ],
      "text/plain": [
       "                  MOVIES      YEAR                 GENRE       RATING  \\\n",
       "count               9999      9355                  9919  8179.000000   \n",
       "unique              6817       438                   510          NaN   \n",
       "top      Bleach: Burîchi  (2020– )  \\nComedy                      NaN   \n",
       "freq                  65       892                   852          NaN   \n",
       "mean                 NaN       NaN                   NaN     6.921176   \n",
       "std                  NaN       NaN                   NaN     1.220232   \n",
       "min                  NaN       NaN                   NaN     1.100000   \n",
       "25%                  NaN       NaN                   NaN     6.200000   \n",
       "50%                  NaN       NaN                   NaN     7.100000   \n",
       "75%                  NaN       NaN                   NaN     7.800000   \n",
       "max                  NaN       NaN                   NaN     9.900000   \n",
       "\n",
       "              ONE-LINE STARS VOTES      RunTime   Gross  \n",
       "count             9999  9999  8179  7041.000000     460  \n",
       "unique            8688  7877  4129          NaN     332  \n",
       "top     \\nAdd a Plot\\n    \\n     7          NaN  $0.01M  \n",
       "freq              1265   456    35          NaN      22  \n",
       "mean               NaN   NaN   NaN    68.688539     NaN  \n",
       "std                NaN   NaN   NaN    47.258056     NaN  \n",
       "min                NaN   NaN   NaN     1.000000     NaN  \n",
       "25%                NaN   NaN   NaN    36.000000     NaN  \n",
       "50%                NaN   NaN   NaN    60.000000     NaN  \n",
       "75%                NaN   NaN   NaN    95.000000     NaN  \n",
       "max                NaN   NaN   NaN   853.000000     NaN  "
      ]
     },
     "execution_count": 17,
     "metadata": {},
     "output_type": "execute_result"
    }
   ],
   "source": [
    "movies.describe(include=\"all\")"
   ]
  },
  {
   "cell_type": "markdown",
   "id": "f7699cb3",
   "metadata": {},
   "source": [
    "### Noticed issues:\n",
    "- Movies column had several duplicates\n",
    "- Years column had brackets and dashes and even roman numericals\n",
    "- Genre column values are several different genres jammed into a single string\n",
    "- Rating column had missing values\n",
    "- One-line column has not much use.\n",
    "- Starts column has directors and main stars all jammed into a single column\n",
    "- Votes column has over 1000 missing values\n",
    "- "
   ]
  },
  {
   "cell_type": "markdown",
   "id": "5f81b0b8",
   "metadata": {},
   "source": [
    "### Movies column"
   ]
  },
  {
   "cell_type": "markdown",
   "id": "b0bde9cd",
   "metadata": {},
   "source": [
    "The movies column has several hundred duplicate values. However, several more duplicate values are hidden with an empty space at the start/end of the movie title. Hence, stripping empty spaces from  movie names"
   ]
  },
  {
   "cell_type": "code",
   "execution_count": 18,
   "id": "40abfe61",
   "metadata": {},
   "outputs": [
    {
     "data": {
      "text/plain": [
       "count              6817\n",
       "unique             6817\n",
       "top       Blood Red Sky\n",
       "freq                  1\n",
       "Name: MOVIES, dtype: object"
      ]
     },
     "execution_count": 18,
     "metadata": {},
     "output_type": "execute_result"
    }
   ],
   "source": [
    "# Dropping movie duplicates BEFORE stripping empty spaces\n",
    "movies.drop_duplicates(subset=[\"MOVIES\"]).MOVIES.describe() # 6817 unique values"
   ]
  },
  {
   "cell_type": "code",
   "execution_count": 23,
   "id": "04c5d267",
   "metadata": {},
   "outputs": [
    {
     "data": {
      "text/plain": [
       "array(['Blood Red Sky', 'Masters of the Universe: Revelation',\n",
       "       'The Walking Dead', ..., 'The Talk', 'Kajko i Kokosz',\n",
       "       \"God's Favorite Idiot\"], dtype=object)"
      ]
     },
     "execution_count": 23,
     "metadata": {},
     "output_type": "execute_result"
    }
   ],
   "source": [
    "# Stripping empty spaces from movies column.\n",
    "movies.MOVIES = movies.MOVIES.str.strip(\" \") \n",
    "movies.MOVIES.unique()"
   ]
  },
  {
   "cell_type": "code",
   "execution_count": 25,
   "id": "e2ec37bb",
   "metadata": {},
   "outputs": [
    {
     "data": {
      "text/plain": [
       "count              6423\n",
       "unique             6423\n",
       "top       Blood Red Sky\n",
       "freq                  1\n",
       "Name: MOVIES, dtype: object"
      ]
     },
     "execution_count": 25,
     "metadata": {},
     "output_type": "execute_result"
    }
   ],
   "source": [
    "# Dropping movie columns after white space has been removed\n",
    "movies.drop_duplicates(subset=[\"MOVIES\"], inplace=True) \n",
    "movies.MOVIES.describe() \n",
    "# As seen in output window, nearly 400 rows were duplicates with an extra \" \""
   ]
  },
  {
   "cell_type": "markdown",
   "id": "c60d882d",
   "metadata": {},
   "source": [
    "### Year column"
   ]
  },
  {
   "cell_type": "code",
   "execution_count": 22,
   "id": "c8ceb4f3",
   "metadata": {},
   "outputs": [
    {
     "data": {
      "text/plain": [
       "array(['(2021)', '(2021– )', '(2010–2022)', '(2013– )', '(2020– )',\n",
       "       '(2006–2013)', '(2019– )', '(2016–2021)', '(2011– )', '(2005– )',\n",
       "       '(2008–2013)', '(2017– )', '(2017–2021)', '(2016– )',\n",
       "       '(1994–2004)', '(2014– )', '(2013–2020)', '(2015– )',\n",
       "       '(2005–2020)', '(2013–2022)', '(2003– )', '(2009–2020)',\n",
       "       '(I) (2018– )', '(2010–2015)', '(2011–2019)', '(2015–2020)',\n",
       "       '(2005–2014)', '(2009–2015)', '(2008–2014)', '(2016–2018)',\n",
       "       '(2009–2017)', '(2020)', '(2018–2021)', '(2017–2020)',\n",
       "       '(1987–1994)', '(2018– )', '(2012– )', '(2014–2020)',\n",
       "       '(2011–2018)', '(2005–2017)', '(2017)', '(2007–2015)',\n",
       "       '(2000–2007)', '(II) (2007– )', '(1993)', '(1999–2022)',\n",
       "       '(2015–2018)', '(2014–2019)', '(2016)', '(2012–2020)',\n",
       "       '(2013–2019)', '(2007–2012)', '(2011–2020)', '(2010–2017)',\n",
       "       '(2000–2015)', '(2015–2021)', '(2001)', '(1997– )', '(2011–2017)',\n",
       "       '(1993–1999)', '(1989–1998)', '(2010–2013)', '(2010–2020)',\n",
       "       '(2003–2019)', '(I) (2019)', '(2017–2019)', '(1975)',\n",
       "       '(2005–2008)', '(1995–2001)', '(2006)', '(2015–2017)',\n",
       "       '(2008–2020)', '(1984–1996)', '(2010– )', '(2014)', '(2000)',\n",
       "       '(2013–2018)', '(2009–2016)', '(2016–2020)', '(2021 TV Special)',\n",
       "       '(2003)', '(1998–2003)', '(I) (2017)', '(1966–1969)', '(2009– )',\n",
       "       '(2019)', '(1990–1991)', '(2012)', '(1995)', '(2020–2021)',\n",
       "       '(2013–2017)', '(2015)', '(2019–2020)', '(2017–2018)',\n",
       "       '(2013–2015)', '(2012–2017)', '(I) (2013–2016)', '(2002)',\n",
       "       '(I) (2020)', '(III) (2021)', '(2018)', '(II) (2016)', '(1976)',\n",
       "       '(1978)', '(2016–2019)', '(2009–2014)', '(2022)', '(2011–2014)',\n",
       "       '(2007–2013)', '(2006–2007)', '(2002–2007)', '(2014–2017)',\n",
       "       '(2010–2019)', '(2008– )', '(2012–2019)', '(2014–2016)',\n",
       "       '(2009–2012)', '(2018–2020)', '(2001–2005)', '(2011–2015)',\n",
       "       '(2014–2018)', '(2015–2019)', '(1982–1993)', '(1998– )', '(1968)',\n",
       "       '(2010–2018)', '(2014–2021)', '(2007–2010)', '(2011)',\n",
       "       '(2013–2021)', '(1990–1996)', '(2004)', '(2007–2014)',\n",
       "       '(1996–2001)', '(2008)', '(1999–2000)', '(2012–2014)',\n",
       "       '(I) (2013)', '(2012–2018)', '(2018–2019)', '(2009–2013)',\n",
       "       '(1971)', '(2004– )', '(1989)', '(1998)', '(2001–2018)',\n",
       "       '(1987–1995)', '(I) (2014)', '(1998–2020)', '(I) (2015)', '(1997)',\n",
       "       '(2004–2013)', '(2002– )', '(2010)', '(I) (2016)', '(II) (2017– )',\n",
       "       '(I) (2018)', '(I) (2021)', '(2004–2012)', '(2019–2021)',\n",
       "       '(IV) (2020)', '(2006–2010)', '(2013)', '(2006–2012)', '(1996)',\n",
       "       '(1994–2000)', '(II) (2020)', '(1980)', '(I) (2011)',\n",
       "       '(1995–1996)', '(2016–2017)', '(1993–1996)', '(II) (2019– )',\n",
       "       '(2009)', '(1962)', '(2022– )', '(I) (2012)', '(1984)',\n",
       "       '(2011–2016)', '(2009–2019)', '(II) (2020– )', '(2006–2021)',\n",
       "       '(I) (2010)', '(2012–2015)', '(I) (2013–2014)', '(1960)', '(1988)',\n",
       "       '(2007)', '(1987)', '(2010–2011)', '(1969)', '(2006–2011)',\n",
       "       '(II) (2019)', '(1961)', '(1979)', '(II) (2022)', '(2014–2015)',\n",
       "       '(1956)', '(2013–2016)', '(III) (2018)', '(2005)', '(II) (2012– )',\n",
       "       '(II) (2013)', '(1983)', '(2002–2019)', '(2013 TV Movie)',\n",
       "       '(II) (2015)', '(I) (2012–2015)', '(1975–1979)', '(1990)', nan,\n",
       "       '(II) (2018)', '(IV) (2021)', '(2015–2016)', '(1995–1998)',\n",
       "       '(1986)', '(2012–2013)', '(1966)', '(2011–2012)', '(2011–2021)',\n",
       "       '(2016 Video)', '(2017 TV Movie)', '(2009–2011)', '(2004–2018)',\n",
       "       '(1967)', '(1984– )', '(1994)', '(2003–2006)', '(1974)',\n",
       "       '(2000–2004)', '(1984–2021)', '(I)', '(II) (2021)', '(1994–1999)',\n",
       "       '(III)', '(1992)', '(1969–1974)', '(2012–2016)', '(2013–2014)',\n",
       "       '(I) (2008)', '(1958)', '(2008–2009)', '(II) (2004)',\n",
       "       '(III) (2019)', '(2006–2009)', '(2011–2013)', '(2007–2008)',\n",
       "       '(1988–1999)', '(2010–2012)', '(2010–2014)', '(II) (2012)',\n",
       "       '(1932)', '(2014 TV Movie)', '(1941)', '(2006– )', '(1992–1995)',\n",
       "       '(II) (2017)', '(1991)', '(2016 TV Special)', '(2020 TV Movie)',\n",
       "       '(2008–2010)', '(II)', '(2020 Video)', '(1999– )', '(1950)',\n",
       "       '(2020 TV Special)', '(1992–2014)', '(2002–2005)',\n",
       "       '(2013 TV Special)', '(I) (2021– )', '(1999)', '(2016 TV Movie)',\n",
       "       '(XII)', '(VII)', '(2021 TV Movie)', '(1983– )', '(1996 Video)',\n",
       "       '(1993 TV Movie)', '(2018 TV Movie)', '(2005–2009)', '(2001–2002)',\n",
       "       '(2015 TV Movie)', '(I) (2020– )', '(2011 Video)', '(2008 Video)',\n",
       "       '(2012 Video)', '(II) (2014)', '(2019 Video)', '(1981–1989)',\n",
       "       '(IV) (2016)', '(III) (2016)', '(2019 TV Movie)', '(1952)',\n",
       "       '(2007 Video)', '(2000–2014)', '(1992– )', '(1957)', '(2003–2007)',\n",
       "       '(III) (2015)', '(IV)', '(2008–2017)', '(2008–2019)',\n",
       "       '(1998–2000)', '(I) (2004)', '(2007–2016)', '(2017 TV Special)',\n",
       "       '(2009 TV Movie)', '(2013 Video)', '(2017 Video)', '(1994–1996)',\n",
       "       '(IV) (2018)', '(2007– )', '(1954)', '(2012 TV Movie)', '(1995– )',\n",
       "       '(1982)', '(1955)', '(2014 TV Short)', '(I) (2022– )',\n",
       "       '(I) (2019–2020)', '(1975 TV Movie)', '(2019 TV Special)',\n",
       "       '(2015 TV Special)', '(2015 TV Short)', '(2018 TV Special)',\n",
       "       '(1948)', '(2014 Video)', '(VI) (2014)', '(2003–2013)',\n",
       "       '(2021 Video)', '(1947)', '(2001– )', '(II) (2021– )', '(1946)',\n",
       "       '(1997–2000)', '(III) (2020)', '(I) (2019– )', '(1993– )',\n",
       "       '(1977)', '(I) (2009)', '(V)', '(2023)', '(TV Special)',\n",
       "       '(II) (2011)', '(TV Movie)', '(1945)', '(2015 Video)',\n",
       "       '(III) (2010)', '(2009 Video)', '(1998–2002)', '(2008 TV Movie)',\n",
       "       '(2019 TV Short)', '(2004 Video)', '(II) (1998)',\n",
       "       '(2014 TV Special)', '(1953)', '(1985)', '(VIII)', '(1973)',\n",
       "       '(2012 TV Special)', '(V) (2016)', '(1972)', '(V) (2018)',\n",
       "       '(II) (2010)', '(2021 TV Short)', '(VI) (2019)', '(I) (2005)',\n",
       "       '(1965)', '(2010–2016)', '(V) (2010)', '(2005–2013)',\n",
       "       '(2006 TV Special)', '(2006 Video)', '(2011 TV Movie)',\n",
       "       '(1988 TV Movie)', '(XXIII)', '(2011 TV Special)',\n",
       "       '(2020 TV Short)', '(VI) (2018)', '(2008 TV Special)',\n",
       "       '(1998–1999)', '(I) (2015– )', '(III) (2012)', '(VI)',\n",
       "       '(2010 TV Special)', '(III) (2017)', '(1993 TV Special)',\n",
       "       '(2004–2005)', '(1992 Video)', '(1989 TV Special)', '(III) (2014)',\n",
       "       '(1966 TV Special)', '(1999 TV Movie)', '(1987 TV Special)',\n",
       "       '(1944)', '(1998 TV Special)', '(2022 TV Special)', '(1989 Video)',\n",
       "       '(1991 TV Special)', '(IV) (2014)', '(2005 Video)',\n",
       "       '(2007 TV Special)', '(1965 TV Special)', '(1990 TV Special)',\n",
       "       '(2001 TV Special)', '(IX)', '(II) (2016– )', '(XIV) (2017)',\n",
       "       '(2009–2010)', '(XIII)', '(II) (2012–2019)', '(1933)',\n",
       "       '(II) (2009)', '(2010 Video)', '(2009 TV Special)', '(XI)',\n",
       "       '(1938)', '(2003 TV Special)', '(Video)', '(2001 TV Movie)',\n",
       "       '(VI) (2016)', '(III) (2011)', '(2006 TV Movie)',\n",
       "       '(2007 TV Movie)', '(2017 TV Short)', '(2018 Video)',\n",
       "       '(2000 Video)', '(1995 Video)', '(2003 Video)',\n",
       "       '(II) (2016 TV Movie)', '(1998 Video)', '(2005 TV Special)',\n",
       "       '(2004–2009)', '(2018 Video Game)', '(1988– )', '(1985– )'],\n",
       "      dtype=object)"
      ]
     },
     "execution_count": 22,
     "metadata": {},
     "output_type": "execute_result"
    }
   ],
   "source": [
    "movies.YEAR.unique()"
   ]
  },
  {
   "cell_type": "markdown",
   "id": "1875200f",
   "metadata": {},
   "source": [
    "The year column has several incorrectly formatted values (roman numericals, \"TV Special\", \"Video Game\"). I will first strip all brackets from the column values, then, I will check if the length is >= 4 (Remove most roman numerals). Then, I will only take the first 4 digits of the column values to get the \"first aired\" year. Finally, to do one final check, I will parse the years as ints and drop any rows which fail this criteria (Get rid of any texts or roman numerals)."
   ]
  },
  {
   "cell_type": "code",
   "execution_count": 28,
   "id": "18f43728",
   "metadata": {},
   "outputs": [
    {
     "data": {
      "text/plain": [
       "0            2021\n",
       "1          2021– \n",
       "2       2010–2022\n",
       "3          2013– \n",
       "4            2021\n",
       "          ...    \n",
       "9304       2014– \n",
       "9314         2021\n",
       "9463       2010– \n",
       "9543       2021– \n",
       "9602          NaN\n",
       "Name: YEAR, Length: 6423, dtype: object"
      ]
     },
     "execution_count": 28,
     "metadata": {},
     "output_type": "execute_result"
    }
   ],
   "source": [
    "movies.YEAR.str.strip(\")\").str.strip(\"(\")"
   ]
  },
  {
   "cell_type": "code",
   "execution_count": null,
   "id": "af15a8e1",
   "metadata": {},
   "outputs": [],
   "source": []
  }
 ],
 "metadata": {
  "kernelspec": {
   "display_name": "Python 3 (ipykernel)",
   "language": "python",
   "name": "python3"
  },
  "language_info": {
   "codemirror_mode": {
    "name": "ipython",
    "version": 3
   },
   "file_extension": ".py",
   "mimetype": "text/x-python",
   "name": "python",
   "nbconvert_exporter": "python",
   "pygments_lexer": "ipython3",
   "version": "3.9.7"
  }
 },
 "nbformat": 4,
 "nbformat_minor": 5
}
